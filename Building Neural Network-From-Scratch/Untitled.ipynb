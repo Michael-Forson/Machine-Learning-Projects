{
 "cells": [
  {
   "cell_type": "markdown",
   "id": "cd752557-0662-474b-92c2-bcd34a9d5dc5",
   "metadata": {},
   "source": [
    "1. Implementation design\n",
    "2. Create the base design\n",
    "3. Create Dense layer\n",
    "4. Create Activation layer\n",
    "5. Implment activation functions and loss functions\n",
    "6. solve Xor Mnist in description\n"
   ]
  },
  {
   "cell_type": "markdown",
   "id": "4544dac1-6264-4b67-a531-9b9c503f8d52",
   "metadata": {},
   "source": [
    "Machine learning Steps\n",
    "1. Feed input, data from layer to layer.Retireve Input\n",
    "2. Calcualte the error\n",
    "3. Adjust the parameters  using gradient descent\n",
    "4. Start again"
   ]
  },
  {
   "cell_type": "code",
   "execution_count": 2,
   "id": "1cc427af-690d-41a1-81e0-b9a1a2ca04d9",
   "metadata": {},
   "outputs": [],
   "source": [
    "#Base layer\n",
    "class Layer:\n",
    "    def __init__(self):\n",
    "        self.input = None\n",
    "        self.output = None\n",
    "    def forward(self, input):\n",
    "        pass\n",
    "    def backward (self,output_gradient, learning_rate):\n",
    "        pass"
   ]
  },
  {
   "cell_type": "code",
   "execution_count": 3,
   "id": "81f53ade-55a6-43f6-a9d2-aaa0b4ac26f0",
   "metadata": {},
   "outputs": [
    {
     "ename": "ModuleNotFoundError",
     "evalue": "No module named 'layer'",
     "output_type": "error",
     "traceback": [
      "\u001b[1;31m---------------------------------------------------------------------------\u001b[0m",
      "\u001b[1;31mModuleNotFoundError\u001b[0m                       Traceback (most recent call last)",
      "Cell \u001b[1;32mIn[3], line 2\u001b[0m\n\u001b[0;32m      1\u001b[0m \u001b[38;5;66;03m#import dense layer\u001b[39;00m\n\u001b[1;32m----> 2\u001b[0m \u001b[38;5;28;01mfrom\u001b[39;00m \u001b[38;5;21;01mlayer\u001b[39;00m \u001b[38;5;28;01mimport\u001b[39;00m Layer\n\u001b[0;32m      3\u001b[0m \u001b[38;5;28;01mclass\u001b[39;00m \u001b[38;5;21;01mDense\u001b[39;00m(Layer):\n\u001b[0;32m      4\u001b[0m     \u001b[38;5;28;01mdef\u001b[39;00m \u001b[38;5;21m__init__\u001b[39m(\u001b[38;5;28mself\u001b[39m,input_size,output_size):\n",
      "\u001b[1;31mModuleNotFoundError\u001b[0m: No module named 'layer'"
     ]
    }
   ],
   "source": [
    "#import dense layer\n",
    "from layer import Layer\n",
    "class Dense(Layer):\n",
    "    def __init__(self,input_size,output_size):\n",
    "        self.weighs = np.random.randn(output_size, input_size)\n",
    "        self.bias = np.random.randn(output_size,1)\n",
    "    def forward(self, input):\n",
    "        self.input= input\n",
    "        return np.dot(self.weights, self.input)+self.bias\n",
    "        \n",
    "    def backward (self,output_gradient, learning_rate):\n",
    "        pass\n"
   ]
  },
  {
   "cell_type": "code",
   "execution_count": 5,
   "id": "e75b4ea3-e356-4071-b906-2ec2d7f15877",
   "metadata": {},
   "outputs": [],
   "source": [
    "# def init_params():\n",
    "#     W1= np.random.randn(10,784)-0.5\n",
    "#     b1= np.random.randn(10,1)-0.5\n",
    "#     W2= np.random.randn(10,10)-0.5\n",
    "#     b2= np.random.randn(10,1)-0.5\n",
    "#     return W1,b1,W2,b2\n",
    "    \n",
    "# def ReLU(Z):\n",
    "#     return np.maximum(0,Z)\n",
    "    \n",
    "# def softmax(Z):\n",
    "#     A = np.exp(Z) / sum(np.exp(Z))\n",
    "#     return A\n",
    "    \n",
    "# def forward_prop(W1,b1,W2,b2,X):\n",
    "#     Z1=W1.dot(X)\n",
    "#     A1=ReLU(Z1)\n",
    "#     Z2 = W2.dot(A1) + b2\n",
    "#     A2 = softmax(A1)\n",
    "#     return Z1,A1,Z2,A2\n",
    "    \n",
    "# def one_hot(Y):\n",
    "#     one_hot_Y = np.zeros(Y.size,Y.max() +1)\n",
    "#     one_hot_Y[np.arange(Y.size),Y] = 1\n",
    "#     one_hot_Y = one_hot_Y.T\n",
    "#     return one_hot_Y\n",
    "    \n",
    "# def deriv_ReLU(Z):\n",
    "#     return Z>0\n",
    "    \n",
    "# def back_prop(Z1,A1,Z2,A2):\n",
    "#     one_hot_Y=one_hot(y)\n",
    "#     dZ2=A2-one_hot_Y\n",
    "#     dW2 = 1/m * dZ2.dot(A1.T)\n",
    "#     db2 = 1/m * np.sum(dZ2, 2)\n",
    "#     dZ1 = W2.T.dot(dZ2) * deriv_ReLU(Z1)\n",
    "#     dW1 = 1/m * dZ1.dot(X.T)\n",
    "#     db1 = 1/m * np.sum(dz1,2)\n",
    "#     return dW1,db1,dW2,db2\n",
    "\n",
    "# def update_params(W1,b1,W2,b2,dW1,db1,dW2,db2,alpha):\n",
    "#     W1=W1-aplha*dW1\n",
    "#     b1=b1-alpha*db1\n",
    "#     W2=W2-alpha*dW2\n",
    "#     b2=b2-aplha*db2\n",
    "#     return W1,b1,W2,b2"
   ]
  },
  {
   "cell_type": "code",
   "execution_count": 6,
   "id": "5093839b-28e7-4bfa-858e-aa107916db4a",
   "metadata": {},
   "outputs": [],
   "source": [
    "# def get_predictions(A2):\n",
    "#     return np.argmax(A2,0)\n",
    "    \n",
    "# def get_accuracy(predictions,Y):\n",
    "#     print(predictions,Y)\n",
    "#     return np.sum(predictions == Y)/Y.size\n",
    "    \n",
    "# def gradient_descent(X,Y,iterations,aplha):\n",
    "#     W1,b1,W2,b2= init_params()\n",
    "#     for i in range(iterations):\n",
    "#         Z1,A1,Z2,A2 = forward_prop(W1,b1,W2,b2,X)\n",
    "#         dW1, db1,dW2,db2 = back_prop(Z1,A1,Z2,A2,W2,X,Y)\n",
    "#         W1, b1,W2, b2= update_params(W1,b1,W2,b2,dW1,db1,dW1,db1,dW2,db2,alpha)\n",
    "#         if i % 50==0:\n",
    "#             print(\"Iterations:\",i)\n",
    "#             print(\"Accuracy: \" ,get_accuracy(get_predictions(A2,Y)))\n",
    "#     return W1,b1,W2,b2\n",
    "    "
   ]
  },
  {
   "cell_type": "code",
   "execution_count": 8,
   "id": "f0d7f559-609a-4579-aeac-ed0d9ee42da2",
   "metadata": {},
   "outputs": [],
   "source": [
    "# W1, b1, W2, b2 = gradient_descent(X_train, Y_train, 0.10, 500)"
   ]
  },
  {
   "cell_type": "code",
   "execution_count": null,
   "id": "c91a5a56-ae8b-4d21-91db-46ba61e5dc33",
   "metadata": {},
   "outputs": [],
   "source": []
  },
  {
   "cell_type": "markdown",
   "id": "82450e95-a8f4-414c-bf55-a4c73e9ac567",
   "metadata": {},
   "source": []
  }
 ],
 "metadata": {
  "kernelspec": {
   "display_name": "Python 3 (ipykernel)",
   "language": "python",
   "name": "python3"
  },
  "language_info": {
   "codemirror_mode": {
    "name": "ipython",
    "version": 3
   },
   "file_extension": ".py",
   "mimetype": "text/x-python",
   "name": "python",
   "nbconvert_exporter": "python",
   "pygments_lexer": "ipython3",
   "version": "3.12.7"
  }
 },
 "nbformat": 4,
 "nbformat_minor": 5
}
