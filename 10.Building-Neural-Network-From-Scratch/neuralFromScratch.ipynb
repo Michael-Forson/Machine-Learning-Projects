{
 "cells": [
  {
   "cell_type": "code",
   "execution_count": 11,
   "id": "423d886e-01f8-4c30-bf03-2be02b14dfed",
   "metadata": {},
   "outputs": [],
   "source": [
    "import math\n",
    "import numpy as np\n",
    "import matplotlib.pyplot as plt\n",
    "%matplotlib inline"
   ]
  },
  {
   "cell_type": "code",
   "execution_count": 16,
   "id": "61ac534e-22d9-4ca9-a82f-08ba60b6a321",
   "metadata": {},
   "outputs": [],
   "source": [
    "def f(x):\n",
    "    return 3*x**2 - 4*x  + 5"
   ]
  },
  {
   "cell_type": "code",
   "execution_count": 17,
   "id": "00c099d0-b3d6-48af-bae2-03aba599634f",
   "metadata": {},
   "outputs": [
    {
     "data": {
      "text/plain": [
       "20.0"
      ]
     },
     "execution_count": 17,
     "metadata": {},
     "output_type": "execute_result"
    }
   ],
   "source": [
    "f(3.0)"
   ]
  },
  {
   "cell_type": "code",
   "execution_count": 19,
   "id": "e61e7a84-80bf-47d4-8d01-bc0244b9e2ad",
   "metadata": {},
   "outputs": [
    {
     "data": {
      "image/png": "[encoded data removed]",
      "text/plain": [
       "<Figure size 640x480 with 1 Axes>"
      ]
     },
     "metadata": {},
     "output_type": "display_data"
    }
   ],
   "source": [
    "xs  = np.arange(-5,5,0.25)\n",
    "ys = f(xs)\n",
    "plt.plot(xs,ys)\n",
    "plt.show()"
   ]
  },
  {
   "cell_type": "code",
   "execution_count": 40,
   "id": "c9de25e5-f3a0-4f6c-968e-3b350dc6a2db",
   "metadata": {},
   "outputs": [
    {
     "data": {
      "text/plain": [
       "0.5003000000014524"
      ]
     },
     "execution_count": 40,
     "metadata": {},
     "output_type": "execute_result"
    }
   ],
   "source": [
    "h= 0.00001\n",
    "x= 3/4\n",
    "(f(x+h)-f(x))/h"
   ]
  },
  {
   "cell_type": "code",
   "execution_count": 2,
   "id": "d10e0cd4-4b47-4aed-bf9d-1c44168f8846",
   "metadata": {},
   "outputs": [
    {
     "name": "stdout",
     "output_type": "stream",
     "text": [
      "4.0\n"
     ]
    }
   ],
   "source": [
    "# let get more complex\n",
    "\n",
    "a = 2.0\n",
    "b= -3.0\n",
    "c = 10.0\n",
    "\n",
    "d = a*b+c\n",
    "print(d)\n"
   ]
  },
  {
   "cell_type": "code",
   "execution_count": 3,
   "id": "95cf08f8-009a-4e44-8655-aef138191dba",
   "metadata": {},
   "outputs": [
    {
     "name": "stdout",
     "output_type": "stream",
     "text": [
      "d1 4.0\n",
      "d1 4.0009999999999994\n",
      "slope 0.9999999999994458\n"
     ]
    }
   ],
   "source": [
    "h=0.001\n",
    "# let get more complex\n",
    "\n",
    "a = 2.0\n",
    "b= -3.0\n",
    "c = 10.0\n",
    "\n",
    "d1 = a*b+c\n",
    "c += h\n",
    "d2 = a*b+c\n",
    "\n",
    "print(\"d1\",d1)\n",
    "print(\"d1\",d2)\n",
    "print(\"slope\",(d2-d1)/h)\n"
   ]
  },
  {
   "cell_type": "code",
   "execution_count": 30,
   "id": "b8fed822-5e23-4518-8229-ef0e31474676",
   "metadata": {},
   "outputs": [
    {
     "data": {
      "text/plain": [
       "Value(data=4.0)"
      ]
     },
     "execution_count": 30,
     "metadata": {},
     "output_type": "execute_result"
    }
   ],
   "source": [
    "class Value:\n",
    "    def __init__(self,data, _children=(),_op=\"\"):\n",
    "        self.data = data\n",
    "        self._prev = set(_children)\n",
    "        self._op = _op\n",
    "        \n",
    "    def __repr__(self):\n",
    "        return f\"Value(data={self.data})\"\n",
    "        \n",
    "    def __add__(self,other):\n",
    "        out = Value(self.data + other.data, (self, other),\"+\")\n",
    "        return out\n",
    "        \n",
    "    def __mul__(self,other):\n",
    "        out = Value(self.data * other.data,(self,other),\"*\")\n",
    "        return out\n",
    "    \n",
    "a = Value(2.0)\n",
    "b = Value(-3.0)\n",
    "c = Value(10.0)\n",
    "\n",
    "d=a * b + c\n",
    "d"
   ]
  },
  {
   "cell_type": "code",
   "execution_count": 31,
   "id": "9a2382dc-77fe-4999-aae6-6dbaa22cf938",
   "metadata": {},
   "outputs": [
    {
     "data": {
      "text/plain": [
       "{Value(data=-6.0), Value(data=10.0)}"
      ]
     },
     "execution_count": 31,
     "metadata": {},
     "output_type": "execute_result"
    }
   ],
   "source": [
    "from graphiz import Digraph\n",
    "def trace(root):\n",
    "    "
   ]
  },
  {
   "cell_type": "code",
   "execution_count": 32,
   "id": "45e958a0-5c45-49ea-bd5f-b3ace3bc3fd3",
   "metadata": {},
   "outputs": [
    {
     "data": {
      "text/plain": [
       "'+'"
      ]
     },
     "execution_count": 32,
     "metadata": {},
     "output_type": "execute_result"
    }
   ],
   "source": []
  },
  {
   "cell_type": "code",
   "execution_count": null,
   "id": "db3c9d5b-5de0-4e4d-ba79-baee74fc0528",
   "metadata": {},
   "outputs": [],
   "source": []
  }
 ],
 "metadata": {
  "kernelspec": {
   "display_name": "Python 3 (ipykernel)",
   "language": "python",
   "name": "python3"
  },
  "language_info": {
   "codemirror_mode": {
    "name": "ipython",
    "version": 3
   },
   "file_extension": ".py",
   "mimetype": "text/x-python",
   "name": "python",
   "nbconvert_exporter": "python",
   "pygments_lexer": "ipython3",
   "version": "3.12.7"
  }
 },
 "nbformat": 4,
 "nbformat_minor": 5
}
